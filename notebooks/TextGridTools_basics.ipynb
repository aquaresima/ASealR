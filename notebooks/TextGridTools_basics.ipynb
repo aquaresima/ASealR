{
 "cells": [
  {
   "cell_type": "markdown",
   "id": "ccfdc7d3",
   "metadata": {},
   "source": [
    "# Import TextGridTools package"
   ]
  },
  {
   "cell_type": "code",
   "execution_count": null,
   "id": "5daea6a2",
   "metadata": {},
   "outputs": [],
   "source": [
    "import tgt"
   ]
  },
  {
   "cell_type": "markdown",
   "id": "38662e52",
   "metadata": {},
   "source": [
    "# Main commands"
   ]
  },
  {
   "cell_type": "markdown",
   "id": "79a7ba1c",
   "metadata": {},
   "source": [
    "[TextGridTools API page](https://textgridtools.readthedocs.io/en/stable/api.html)"
   ]
  },
  {
   "cell_type": "code",
   "execution_count": null,
   "id": "c2eb98b0",
   "metadata": {},
   "outputs": [],
   "source": [
    "#Loading a textgrid file\n",
    "text_grid = tgt.io.read_textgrid(\"210702_j5_con2_in_progress.TextGrid\", encoding='utf-8')\n",
    "\n",
    "#List the tiers\n",
    "text_grid.get_tier_names()\n",
    "\n",
    "#Get annotations from first tier\n",
    "text_grid.tiers[0].annotations\n",
    "\n",
    "#Get start times\n",
    "text_grid.tiers[0].annotations.start_time\n",
    "\n",
    "#Get end times\n",
    "text_grid.tiers[0].annotations.end_time\n",
    "\n",
    "#Get specific annotations\n",
    "text_grid.tiers[0].get_annotations_with_text(pattern=\"u\")\n",
    "\n",
    "#Export file to table\n",
    "tgt.io.export_to_table(text_grid, separator=', ')"
   ]
  }
 ],
 "metadata": {
  "kernelspec": {
   "display_name": "Python 3",
   "language": "python",
   "name": "python3"
  },
  "language_info": {
   "codemirror_mode": {
    "name": "ipython",
    "version": 3
   },
   "file_extension": ".py",
   "mimetype": "text/x-python",
   "name": "python",
   "nbconvert_exporter": "python",
   "pygments_lexer": "ipython3",
   "version": "3.9.5"
  }
 },
 "nbformat": 4,
 "nbformat_minor": 5
}
